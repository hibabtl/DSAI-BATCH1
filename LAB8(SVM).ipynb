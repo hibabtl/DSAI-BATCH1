{
  "nbformat": 4,
  "nbformat_minor": 0,
  "metadata": {
    "colab": {
      "provenance": [],
      "authorship_tag": "ABX9TyNCQoPeC4h3uP5ka3BrYF8A",
      "include_colab_link": true
    },
    "kernelspec": {
      "name": "python3",
      "display_name": "Python 3"
    },
    "language_info": {
      "name": "python"
    }
  },
  "cells": [
    {
      "cell_type": "markdown",
      "metadata": {
        "id": "view-in-github",
        "colab_type": "text"
      },
      "source": [
        "<a href=\"https://colab.research.google.com/github/hibabtl/DSAI-SVM-CODE/blob/main/LAB8(SVM).ipynb\" target=\"_parent\"><img src=\"https://colab.research.google.com/assets/colab-badge.svg\" alt=\"Open In Colab\"/></a>"
      ]
    },
    {
      "cell_type": "code",
      "execution_count": 8,
      "metadata": {
        "id": "cpvAUriEnd4q"
      },
      "outputs": [],
      "source": [
        "import numpy as np\n",
        "import pandas as pd\n",
        "from sklearn.model_selection import train_test_split\n",
        "from sklearn.metrics import accuracy_score\n",
        "from sklearn.svm import SVC\n"
      ]
    },
    {
      "cell_type": "code",
      "source": [
        "df=pd.read_csv(\"/content/titanic_clean.csv\")\n",
        "df=pd.get_dummies(df,columns=['Pclass','Sex','Embarked','Title','GrpSize','FareCat','AgeCat'])\n",
        "X=df.drop(['Survived','PassengerId'],axis=1)\n",
        "Y=df['Survived']\n",
        "X_train ,X_test ,Y_train ,Y_test=train_test_split(X,Y,train_size=0.3,random_state=42,shuffle=True)\n",
        "svm_model=SVC(kernel='linear')\n",
        "svm_model.fit(X_train,Y_train)\n",
        "Y_pred=svm_model.predict(X_test)\n",
        "accuracy=accuracy_score(Y_test,Y_pred)\n",
        "print(\"Accuracy: \", accuracy)\n"
      ],
      "metadata": {
        "colab": {
          "base_uri": "https://localhost:8080/"
        },
        "id": "5icYetoRo-Ed",
        "outputId": "5acc575d-4094-4902-8294-887550e9e0fa"
      },
      "execution_count": 13,
      "outputs": [
        {
          "output_type": "stream",
          "name": "stdout",
          "text": [
            "Accuracy:  0.8397435897435898\n"
          ]
        }
      ]
    }
  ]
}